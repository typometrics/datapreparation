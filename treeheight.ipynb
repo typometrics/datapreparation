{
 "cells": [
  {
   "cell_type": "code",
   "execution_count": 24,
   "metadata": {},
   "outputs": [],
   "source": [
    "import time, sys, os, glob, re, multiprocessing, psutil, tqdm\n",
    "from pathlib import Path\n",
    "import numpy as np\n",
    "\n",
    "import conll\n"
   ]
  },
  {
   "cell_type": "code",
   "execution_count": 2,
   "metadata": {},
   "outputs": [],
   "source": [
    "conlltxt = \"\"\"# newdoc id = weblog-typepad.com_ripples_20040407125600_ENG_20040407_125600\n",
    "# sent_id = weblog-typepad.com_ripples_20040407125600_ENG_20040407_125600-0001\n",
    "# newpar id = weblog-typepad.com_ripples_20040407125600_ENG_20040407_125600-p0001\n",
    "# text = Elena's motorcycle tour through the region around Chernobyl has revived interest in one of the most serious nuclear disasters in history.\n",
    "1-2\tElena's\t_\t_\t_\t_\t_\t_\t_\t_\n",
    "1\tElena\tElena\tPROPN\tNNP\tNumber=Sing\t4\tnmod:poss\t4:nmod:poss\t_\n",
    "2\t's\t's\tPART\tPOS\t_\t1\tcase\t1:case\t_\n",
    "3\tmotorcycle\tmotorcycle\tNOUN\tNN\tNumber=Sing\t4\tcompound\t4:compound\t_\n",
    "4\ttour\ttour\tNOUN\tNN\tNumber=Sing\t11\tnsubj\t11:nsubj\t_\n",
    "5\tthrough\tthrough\tADP\tIN\t_\t7\tcase\t7:case\t_\n",
    "6\tthe\tthe\tDET\tDT\tDefinite=Def|PronType=Art\t7\tdet\t7:det\t_\n",
    "7\tregion\tregion\tNOUN\tNN\tNumber=Sing\t4\tnmod\t4:nmod:through\t_\n",
    "8\taround\taround\tADP\tIN\t_\t9\tcase\t9:case\t_\n",
    "9\tChernobyl\tChernobyl\tPROPN\tNNP\tNumber=Sing\t7\tnmod\t7:nmod:around\t_\n",
    "10\thas\thave\tAUX\tVBZ\tMood=Ind|Number=Sing|Person=3|Tense=Pres|VerbForm=Fin\t11\taux\t11:aux\t_\n",
    "11\trevived\trevive\tVERB\tVBN\tTense=Past|VerbForm=Part\t0\troot\t0:root\t_\n",
    "12\tinterest\tinterest\tNOUN\tNN\tNumber=Sing\t11\tobj\t11:obj\t_\n",
    "13\tin\tin\tADP\tIN\t_\t14\tcase\t14:case\t_\n",
    "14\tone\tone\tNUM\tCD\tNumType=Card\t12\tnmod\t12:nmod:in\t_\n",
    "15\tof\tof\tADP\tIN\t_\t20\tcase\t20:case\t_\n",
    "16\tthe\tthe\tDET\tDT\tDefinite=Def|PronType=Art\t20\tdet\t20:det\t_\n",
    "17\tmost\tmost\tADV\tRBS\t_\t18\tadvmod\t18:advmod\t_\n",
    "18\tserious\tserious\tADJ\tJJ\tDegree=Pos\t20\tamod\t20:amod\t_\n",
    "19\tnuclear\tnuclear\tADJ\tJJ\tDegree=Pos\t20\tamod\t20:amod\t_\n",
    "20\tdisasters\tdisaster\tNOUN\tNNS\tNumber=Plur\t14\tnmod\t14:nmod:of\t_\n",
    "21\tin\tin\tADP\tIN\t_\t22\tcase\t22:case\t_\n",
    "22\thistory\thistory\tNOUN\tNN\tNumber=Sing\t14\tnmod\t14:nmod:in\tSpaceAfter=No\n",
    "23\t.\t.\tPUNCT\t.\t_\t11\tpunct\t11:punct\t_\n",
    "\"\"\""
   ]
  },
  {
   "cell_type": "code",
   "execution_count": 3,
   "metadata": {},
   "outputs": [],
   "source": [
    "tree=conll.conll2tree(conlltxt)"
   ]
  },
  {
   "cell_type": "code",
   "execution_count": 7,
   "metadata": {},
   "outputs": [
    {
     "name": "stdout",
     "output_type": "stream",
     "text": [
      "<class 'conll.Tree'>\n",
      "dict_keys([4])\n",
      "4\n",
      "[4]\n",
      "\n",
      " # newdoc id = weblog-typepad.com_ripples_20040407125600_ENG_20040407_125600\n",
      "# newpar id = weblog-typepad.com_ripples_20040407125600_ENG_20040407_125600-p0001\n",
      "# sent_id = weblog-typepad.com_ripples_20040407125600_ENG_20040407_125600-0001\n",
      "# text = Elena's motorcycle tour through the region around Chernobyl has revived interest in one of the most serious nuclear disasters in history.\n",
      "1\tElena\tElena\tPROPN\tNNP\tNumber=Sing\t4\tnmod:poss\t4:poss\t_\n",
      "2\t's\t's\tPART\tPOS\t_\t1\tcase\t1:case\t_\n",
      "3\tmotorcycle\tmotorcycle\tNOUN\tNN\tNumber=Sing\t4\tcompound\t4:compound\t_\n",
      "4\ttour\ttour\tNOUN\tNN\tNumber=Sing\t11\tnsubj\t11:nsubj\t_\n",
      "5\tthrough\tthrough\tADP\tIN\t_\t7\tcase\t7:case\t_\n",
      "6\tthe\tthe\tDET\tDT\tDefinite=Def|PronType=Art\t7\tdet\t7:det\t_\n",
      "7\tregion\tregion\tNOUN\tNN\tNumber=Sing\t4\tnmod\t4:through\t_\n",
      "8\taround\taround\tADP\tIN\t_\t9\tcase\t9:case\t_\n",
      "9\tChernobyl\tChernobyl\tPROPN\tNNP\tNumber=Sing\t7\tnmod\t7:around\t_\n",
      "10\thas\thave\tAUX\tVBZ\tMood=Ind|Number=Sing|Person=3|Tense=Pres|VerbForm=Fin\t11\taux\t11:aux\t_\n",
      "11\trevived\trevive\tVERB\tVBN\tTense=Past|VerbForm=Part\t0\troot\t0:root\t_\n",
      "12\tinterest\tinterest\tNOUN\tNN\tNumber=Sing\t11\tobj\t11:obj\t_\n",
      "13\tin\tin\tADP\tIN\t_\t14\tcase\t14:case\t_\n",
      "14\tone\tone\tNUM\tCD\tNumType=Card\t12\tnmod\t12:in\t_\n",
      "15\tof\tof\tADP\tIN\t_\t20\tcase\t20:case\t_\n",
      "16\tthe\tthe\tDET\tDT\tDefinite=Def|PronType=Art\t20\tdet\t20:det\t_\n",
      "17\tmost\tmost\tADV\tRBS\t_\t18\tadvmod\t18:advmod\t_\n",
      "18\tserious\tserious\tADJ\tJJ\tDegree=Pos\t20\tamod\t20:amod\t_\n",
      "19\tnuclear\tnuclear\tADJ\tJJ\tDegree=Pos\t20\tamod\t20:amod\t_\n",
      "20\tdisasters\tdisaster\tNOUN\tNNS\tNumber=Plur\t14\tnmod\t14:of\t_\n",
      "21\tin\tin\tADP\tIN\t_\t22\tcase\t22:case\t_\n",
      "22\thistory\thistory\tNOUN\tNN\tNumber=Sing\t14\tnmod\t14:in\tSpaceAfter=No\n",
      "23\t.\t.\tPUNCT\t.\t_\t11\tpunct\t11:punct\t_\n",
      "\n"
     ]
    }
   ],
   "source": [
    "print(type(tree))\n",
    "kk = tree[1]['gov'].keys()\n",
    "print(kk)\n",
    "for k in kk:\n",
    "    print(k)\n",
    "    \n",
    "kl = list(kk)\n",
    "print(kl)\n",
    "print(\"\\n\",tree)"
   ]
  },
  {
   "cell_type": "code",
   "execution_count": 8,
   "metadata": {},
   "outputs": [],
   "source": [
    "def headOfList(idlist,tree):\n",
    "    if len(idlist):\n",
    "        for i in idlist:\n",
    "            for hd in tree[i]['gov'].keys():\n",
    "                hdlist.append(hd)\n",
    "    return hdlist"
   ]
  },
  {
   "cell_type": "code",
   "execution_count": 9,
   "metadata": {},
   "outputs": [
    {
     "name": "stdout",
     "output_type": "stream",
     "text": [
      "[4, 1, 4, 11, 7, 7, 4, 9, 7, 11, 0, 11, 14, 12, 20, 20, 18, 20, 20, 14, 22, 14]\n",
      "[4, 1, 4, 11, 7, 7, 4, 9, 7, 11, 0, 11, 14, 12, 20, 20, 18, 20, 20, 14, 22, 14]\n"
     ]
    }
   ],
   "source": [
    "headlist = []\n",
    "for i in range(1, len(tree)):\n",
    "    for hd in tree[i]['gov'].keys():\n",
    "        headlist.append(hd)    \n",
    "print(headlist)\n",
    "\n",
    "hhl = headOfList(range(1, len(tree)),tree)\n",
    "print(hhl)"
   ]
  },
  {
   "cell_type": "code",
   "execution_count": 10,
   "metadata": {},
   "outputs": [],
   "source": [
    "def haveCousin(hdset, tree):\n",
    "    hdset.remove(0) #we are going to find head of headset while 0 haven't head\n",
    "    #find head of headset, an id can appears more than once if there are multiple heads in one stage \n",
    "    hdofhdList = headOfList(hdset, tree)\n",
    "    hdofhdSet = set(hdofhdList) #eliminate duplication\n",
    "    return len(hdofhdList)!= len(set(hdofhdSet)), hdofhdSet"
   ]
  },
  {
   "cell_type": "code",
   "execution_count": 11,
   "metadata": {},
   "outputs": [],
   "source": [
    "def treeHeight(tree):\n",
    "    \"\"\"\n",
    "    find tree height with different head id. For each 'stage' of tree, we compte only one head. \n",
    "    if one node is a head, it means there is one more stage for its son (dependent). \n",
    "    while in one stage, maybe there are more than one head(who has branche), so we need delete the others\n",
    "    \"\"\"\n",
    "    height = -1\n",
    "    headset = set(headOfList(range(1, len(tree)),tree)) #all head id in current tree\n",
    "    print(\"head id of current tree:\", headset)\n",
    "    \n",
    "    branch = 0\n",
    "    cousin = True #if there are cousins in headset\n",
    "    while(cousin):\n",
    "        cousin, headset = haveCousin(headset, tree) \n",
    "        print(\"headset == \", headset)\n",
    "        branch += 1\n",
    "        print(branch)\n",
    "        \n",
    "        if(not cousin):\n",
    "            height = len(headset)+ branch\n",
    "            \n",
    "    return height"
   ]
  },
  {
   "cell_type": "code",
   "execution_count": 12,
   "metadata": {},
   "outputs": [
    {
     "name": "stdout",
     "output_type": "stream",
     "text": [
      "head id of current tree: {0, 1, 4, 7, 9, 11, 12, 14, 18, 20, 22}\n",
      "headset ==  {0, 4, 7, 11, 12, 14, 20}\n",
      "1\n",
      "headset ==  {0, 4, 11, 12, 14}\n",
      "2\n",
      "headset ==  {0, 11, 12}\n",
      "3\n",
      "headset ==  {0, 11}\n",
      "4\n",
      "tree height =  6\n"
     ]
    }
   ],
   "source": [
    "ht = treeHeight(tree)\n",
    "print(\"tree height = \", ht)"
   ]
  },
  {
   "cell_type": "markdown",
   "metadata": {},
   "source": [
    "##### node height"
   ]
  },
  {
   "cell_type": "code",
   "execution_count": 37,
   "metadata": {},
   "outputs": [],
   "source": [
    "def getHeadId(idx, tree): #put to private\n",
    "    for hd in tree[idx]['gov'].keys():#hd is unique for each node\n",
    "        return hd"
   ]
  },
  {
   "cell_type": "code",
   "execution_count": 38,
   "metadata": {},
   "outputs": [],
   "source": [
    "#dep length\n",
    "#for one node, find the depth by track back to the root\n",
    "\n",
    "def depLength(nodeId, tree):\n",
    "    length = 1 #every node have at least length 1 to the node 0\n",
    "    head = getHeadId(nodeId, tree)\n",
    "    while(head != 0):\n",
    "        idx = head\n",
    "        head = getHeadId(idx, tree)\n",
    "        length += 1\n",
    "    return length"
   ]
  },
  {
   "cell_type": "code",
   "execution_count": 39,
   "metadata": {},
   "outputs": [],
   "source": [
    "assert(depLength(11,tree) == 1)\n",
    "assert(depLength(12,tree) == 2)\n",
    "assert(depLength(4,tree) == 2)\n",
    "assert(depLength(1,tree) == 3)\n",
    "assert(depLength(2,tree) == 4)\n",
    "assert(depLength(21,tree) == 5)"
   ]
  },
  {
   "cell_type": "markdown",
   "metadata": {},
   "source": [
    "Then stock deplength of nodes by tag of token for each language and find the average value "
   ]
  },
  {
   "cell_type": "code",
   "execution_count": null,
   "metadata": {},
   "outputs": [],
   "source": []
  }
 ],
 "metadata": {
  "kernelspec": {
   "display_name": "Python 3",
   "language": "python",
   "name": "python3"
  },
  "language_info": {
   "codemirror_mode": {
    "name": "ipython",
    "version": 3
   },
   "file_extension": ".py",
   "mimetype": "text/x-python",
   "name": "python",
   "nbconvert_exporter": "python",
   "pygments_lexer": "ipython3",
   "version": "3.8.5"
  }
 },
 "nbformat": 4,
 "nbformat_minor": 4
}
