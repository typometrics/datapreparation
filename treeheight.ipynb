{
 "cells": [
  {
   "cell_type": "code",
   "execution_count": 1,
   "metadata": {},
   "outputs": [],
   "source": [
    "import time, sys, os, glob, re, multiprocessing, psutil, tqdm\n",
    "from pathlib import Path\n",
    "import numpy as np\n",
    "\n",
    "import conll\n"
   ]
  },
  {
   "cell_type": "code",
   "execution_count": 2,
   "metadata": {},
   "outputs": [],
   "source": [
    "conlltxt = \"\"\"# newdoc id = weblog-typepad.com_ripples_20040407125600_ENG_20040407_125600\n",
    "# sent_id = weblog-typepad.com_ripples_20040407125600_ENG_20040407_125600-0001\n",
    "# newpar id = weblog-typepad.com_ripples_20040407125600_ENG_20040407_125600-p0001\n",
    "# text = Elena's motorcycle tour through the region around Chernobyl has revived interest in one of the most serious nuclear disasters in history.\n",
    "1-2\tElena's\t_\t_\t_\t_\t_\t_\t_\t_\n",
    "1\tElena\tElena\tPROPN\tNNP\tNumber=Sing\t4\tnmod:poss\t4:nmod:poss\t_\n",
    "2\t's\t's\tPART\tPOS\t_\t1\tcase\t1:case\t_\n",
    "3\tmotorcycle\tmotorcycle\tNOUN\tNN\tNumber=Sing\t4\tcompound\t4:compound\t_\n",
    "4\ttour\ttour\tNOUN\tNN\tNumber=Sing\t11\tnsubj\t11:nsubj\t_\n",
    "5\tthrough\tthrough\tADP\tIN\t_\t7\tcase\t7:case\t_\n",
    "6\tthe\tthe\tDET\tDT\tDefinite=Def|PronType=Art\t7\tdet\t7:det\t_\n",
    "7\tregion\tregion\tNOUN\tNN\tNumber=Sing\t4\tnmod\t4:nmod:through\t_\n",
    "8\taround\taround\tADP\tIN\t_\t9\tcase\t9:case\t_\n",
    "9\tChernobyl\tChernobyl\tPROPN\tNNP\tNumber=Sing\t7\tnmod\t7:nmod:around\t_\n",
    "10\thas\thave\tAUX\tVBZ\tMood=Ind|Number=Sing|Person=3|Tense=Pres|VerbForm=Fin\t11\taux\t11:aux\t_\n",
    "11\trevived\trevive\tVERB\tVBN\tTense=Past|VerbForm=Part\t0\troot\t0:root\t_\n",
    "12\tinterest\tinterest\tNOUN\tNN\tNumber=Sing\t11\tobj\t11:obj\t_\n",
    "13\tin\tin\tADP\tIN\t_\t14\tcase\t14:case\t_\n",
    "14\tone\tone\tNUM\tCD\tNumType=Card\t12\tnmod\t12:nmod:in\t_\n",
    "15\tof\tof\tADP\tIN\t_\t20\tcase\t20:case\t_\n",
    "16\tthe\tthe\tDET\tDT\tDefinite=Def|PronType=Art\t20\tdet\t20:det\t_\n",
    "17\tmost\tmost\tADV\tRBS\t_\t18\tadvmod\t18:advmod\t_\n",
    "18\tserious\tserious\tADJ\tJJ\tDegree=Pos\t20\tamod\t20:amod\t_\n",
    "19\tnuclear\tnuclear\tADJ\tJJ\tDegree=Pos\t20\tamod\t20:amod\t_\n",
    "20\tdisasters\tdisaster\tNOUN\tNNS\tNumber=Plur\t14\tnmod\t14:nmod:of\t_\n",
    "21\tin\tin\tADP\tIN\t_\t22\tcase\t22:case\t_\n",
    "22\thistory\thistory\tNOUN\tNN\tNumber=Sing\t14\tnmod\t14:nmod:in\tSpaceAfter=No\n",
    "23\t.\t.\tPUNCT\t.\t_\t11\tpunct\t11:punct\t_\n",
    "\"\"\""
   ]
  },
  {
   "cell_type": "code",
   "execution_count": 3,
   "metadata": {},
   "outputs": [],
   "source": [
    "tree=conll.conll2tree(conlltxt)"
   ]
  },
  {
   "cell_type": "code",
   "execution_count": 4,
   "metadata": {},
   "outputs": [
    {
     "name": "stdout",
     "output_type": "stream",
     "text": [
      "<class 'conll.Tree'>\n",
      "dict_keys([4])\n",
      "4\n",
      "[4]\n",
      "\n",
      " # newdoc id = weblog-typepad.com_ripples_20040407125600_ENG_20040407_125600\n",
      "# newpar id = weblog-typepad.com_ripples_20040407125600_ENG_20040407_125600-p0001\n",
      "# sent_id = weblog-typepad.com_ripples_20040407125600_ENG_20040407_125600-0001\n",
      "# text = Elena's motorcycle tour through the region around Chernobyl has revived interest in one of the most serious nuclear disasters in history.\n",
      "1\tElena\tElena\tPROPN\tNNP\tNumber=Sing\t4\tnmod:poss\t4:poss\t_\n",
      "2\t's\t's\tPART\tPOS\t_\t1\tcase\t1:case\t_\n",
      "3\tmotorcycle\tmotorcycle\tNOUN\tNN\tNumber=Sing\t4\tcompound\t4:compound\t_\n",
      "4\ttour\ttour\tNOUN\tNN\tNumber=Sing\t11\tnsubj\t11:nsubj\t_\n",
      "5\tthrough\tthrough\tADP\tIN\t_\t7\tcase\t7:case\t_\n",
      "6\tthe\tthe\tDET\tDT\tDefinite=Def|PronType=Art\t7\tdet\t7:det\t_\n",
      "7\tregion\tregion\tNOUN\tNN\tNumber=Sing\t4\tnmod\t4:through\t_\n",
      "8\taround\taround\tADP\tIN\t_\t9\tcase\t9:case\t_\n",
      "9\tChernobyl\tChernobyl\tPROPN\tNNP\tNumber=Sing\t7\tnmod\t7:around\t_\n",
      "10\thas\thave\tAUX\tVBZ\tMood=Ind|Number=Sing|Person=3|Tense=Pres|VerbForm=Fin\t11\taux\t11:aux\t_\n",
      "11\trevived\trevive\tVERB\tVBN\tTense=Past|VerbForm=Part\t0\troot\t0:root\t_\n",
      "12\tinterest\tinterest\tNOUN\tNN\tNumber=Sing\t11\tobj\t11:obj\t_\n",
      "13\tin\tin\tADP\tIN\t_\t14\tcase\t14:case\t_\n",
      "14\tone\tone\tNUM\tCD\tNumType=Card\t12\tnmod\t12:in\t_\n",
      "15\tof\tof\tADP\tIN\t_\t20\tcase\t20:case\t_\n",
      "16\tthe\tthe\tDET\tDT\tDefinite=Def|PronType=Art\t20\tdet\t20:det\t_\n",
      "17\tmost\tmost\tADV\tRBS\t_\t18\tadvmod\t18:advmod\t_\n",
      "18\tserious\tserious\tADJ\tJJ\tDegree=Pos\t20\tamod\t20:amod\t_\n",
      "19\tnuclear\tnuclear\tADJ\tJJ\tDegree=Pos\t20\tamod\t20:amod\t_\n",
      "20\tdisasters\tdisaster\tNOUN\tNNS\tNumber=Plur\t14\tnmod\t14:of\t_\n",
      "21\tin\tin\tADP\tIN\t_\t22\tcase\t22:case\t_\n",
      "22\thistory\thistory\tNOUN\tNN\tNumber=Sing\t14\tnmod\t14:in\tSpaceAfter=No\n",
      "23\t.\t.\tPUNCT\t.\t_\t11\tpunct\t11:punct\t_\n",
      "\n"
     ]
    }
   ],
   "source": [
    "print(type(tree))\n",
    "kk = tree[1]['gov'].keys()\n",
    "print(kk)\n",
    "for k in kk:\n",
    "    print(k)\n",
    "    \n",
    "kl = list(kk)\n",
    "print(kl)\n",
    "print(\"\\n\",tree)"
   ]
  },
  {
   "cell_type": "code",
   "execution_count": 5,
   "metadata": {},
   "outputs": [],
   "source": [
    "def headOfList(idlist,tree):\n",
    "    hdlist = []\n",
    "    if len(idlist):\n",
    "        for i in idlist:\n",
    "            for hd in tree[i]['gov'].keys():\n",
    "                if hd != -1: hdlist.append(hd)\n",
    "    return hdlist"
   ]
  },
  {
   "cell_type": "code",
   "execution_count": 6,
   "metadata": {},
   "outputs": [
    {
     "name": "stdout",
     "output_type": "stream",
     "text": [
      "[4, 1, 4, 11, 7, 7, 4, 9, 7, 11, 0, 11, 14, 12, 20, 20, 18, 20, 20, 14, 22, 14, 11]\n",
      "[4, 1, 4, 11, 7, 7, 4, 9, 7, 11, 0, 11, 14, 12, 20, 20, 18, 20, 20, 14, 22, 14, 11]\n"
     ]
    }
   ],
   "source": [
    "headlist = []\n",
    "for i in range(1, len(tree)+1):\n",
    "    for hd in tree[i]['gov'].keys():\n",
    "        headlist.append(hd)    \n",
    "print(headlist)\n",
    "\n",
    "hhl = headOfList(range(1, len(tree)+1),tree)\n",
    "print(hhl)"
   ]
  },
  {
   "cell_type": "code",
   "execution_count": 7,
   "metadata": {},
   "outputs": [],
   "source": [
    "def haveCousin(hdset, tree):\n",
    "    hdset.remove(0) #we are going to find head of headset while 0 haven't head\n",
    "    #find head of headset, an id can appears more than once if there are multiple heads in one stage \n",
    "    hdofhdList = headOfList(hdset, tree)\n",
    "    hdofhdSet = set(hdofhdList) #eliminate duplication\n",
    "    return len(hdofhdList)!= len(set(hdofhdSet)), hdofhdSet"
   ]
  },
  {
   "cell_type": "code",
   "execution_count": 8,
   "metadata": {},
   "outputs": [],
   "source": [
    "def treeHeight(tree):\n",
    "    \"\"\"\n",
    "    find tree height with different head id. For each 'stage' of tree, we compte only one head. \n",
    "    if one node is a head, it means there is one more stage for its son (dependent). \n",
    "    while in one stage, maybe there are more than one head(who has branche), so we need delete the others\n",
    "    \"\"\"\n",
    "    height = -1\n",
    "    headset = set(headOfList(tree.keys(),tree)) #all head id in current tree\n",
    "    print(\"head id of current tree:\", headset)\n",
    "    \n",
    "    branch = 0\n",
    "    cousin = True #if there are cousins in headset\n",
    "    while(cousin):\n",
    "        cousin, headset = haveCousin(headset, tree) \n",
    "        print(\"headset == \", headset)\n",
    "        branch += 1\n",
    "        print(branch)\n",
    "        \n",
    "        if(not cousin):\n",
    "            height = len(headset)+ branch\n",
    "            \n",
    "    return height"
   ]
  },
  {
   "cell_type": "code",
   "execution_count": 9,
   "metadata": {},
   "outputs": [
    {
     "name": "stdout",
     "output_type": "stream",
     "text": [
      "head id of current tree: {0, 1, 4, 7, 9, 11, 12, 14, 18, 20, 22}\n",
      "headset ==  {0, 4, 7, 11, 12, 14, 20}\n",
      "1\n",
      "headset ==  {0, 4, 11, 12, 14}\n",
      "2\n",
      "headset ==  {0, 11, 12}\n",
      "3\n",
      "headset ==  {0, 11}\n",
      "4\n",
      "tree height =  6\n"
     ]
    }
   ],
   "source": [
    "ht = treeHeight(tree)\n",
    "print(\"tree height = \", ht)"
   ]
  },
  {
   "cell_type": "code",
   "execution_count": 10,
   "metadata": {},
   "outputs": [
    {
     "data": {
      "text/plain": [
       "dict_keys([1, 2, 3, 4, 5, 6, 7, 8, 9, 10, 11, 12, 13, 14, 15, 16, 17, 18, 19, 20, 21, 22, 23])"
      ]
     },
     "execution_count": 10,
     "metadata": {},
     "output_type": "execute_result"
    }
   ],
   "source": [
    "tree.keys()"
   ]
  },
  {
   "cell_type": "markdown",
   "metadata": {},
   "source": [
    "##### node height"
   ]
  },
  {
   "cell_type": "code",
   "execution_count": 11,
   "metadata": {},
   "outputs": [],
   "source": [
    "def getHeadId(idx, tree): #put to private\n",
    "    for hd in tree[idx]['gov'].keys():#hd is unique for each node\n",
    "        return hd"
   ]
  },
  {
   "cell_type": "code",
   "execution_count": 12,
   "metadata": {},
   "outputs": [],
   "source": [
    "#dep length\n",
    "#for one node, find the depth by track back to the root\n",
    "\n",
    "def depLength(nodeId, tree):\n",
    "    length = 1 #every node have at least length 1 to the node 0\n",
    "    head = getHeadId(nodeId, tree)\n",
    "    while(head != 0):\n",
    "        idx = head\n",
    "        head = getHeadId(idx, tree)\n",
    "        length += 1\n",
    "    return length"
   ]
  },
  {
   "cell_type": "code",
   "execution_count": 13,
   "metadata": {},
   "outputs": [],
   "source": [
    "assert(depLength(11,tree) == 1)\n",
    "assert(depLength(12,tree) == 2)\n",
    "assert(depLength(4,tree) == 2)\n",
    "assert(depLength(1,tree) == 3)\n",
    "assert(depLength(2,tree) == 4)\n",
    "assert(depLength(21,tree) == 5)\n",
    "assert(depLength(17,tree) == 6)"
   ]
  },
  {
   "cell_type": "markdown",
   "metadata": {},
   "source": [
    "??? Then stock deplength of nodes by tag of token for each language and find the average value "
   ]
  },
  {
   "cell_type": "markdown",
   "metadata": {},
   "source": [
    "#### empty node"
   ]
  },
  {
   "cell_type": "code",
   "execution_count": 14,
   "metadata": {},
   "outputs": [],
   "source": [
    "testE = \"\"\"# sent_id = weblog-blogspot.com_dakbangla_20041028153019_ENG_20041028_153019-0002\n",
    "# text = Over nine dozen temples that had served the Hindu population have been destroyed, with some used as building material and others as urinals.\n",
    "1\tOver\tover\tADV\tRB\t_\t3\tadvmod\t3:advmod\t_\n",
    "2\tnine\tnine\tNUM\tCD\tNumType=Card\t3\tcompound\t3:compound\t_\n",
    "3\tdozen\tdozen\tNOUN\tNN\tNumber=Sing\t4\tnummod\t4:nummod\t_\n",
    "4\ttemples\ttemple\tNOUN\tNNS\tNumber=Plur\t13\tnsubj:pass\t7:nsubj|13:nsubj:pass\t_\n",
    "5\tthat\tthat\tPRON\tWDT\tPronType=Rel\t7\tnsubj\t4:ref\t_\n",
    "6\thad\thave\tAUX\tVBD\tMood=Ind|Tense=Past|VerbForm=Fin\t7\taux\t7:aux\t_\n",
    "7\tserved\tserve\tVERB\tVBN\tTense=Past|VerbForm=Part\t4\tacl:relcl\t4:acl:relcl\t_\n",
    "8\tthe\tthe\tDET\tDT\tDefinite=Def|PronType=Art\t10\tdet\t10:det\t_\n",
    "9\tHindu\thindu\tADJ\tJJ\tDegree=Pos\t10\tamod\t10:amod\t_\n",
    "10\tpopulation\tpopulation\tNOUN\tNN\tNumber=Sing\t7\tobj\t7:obj\t_\n",
    "11\thave\thave\tAUX\tVBP\tMood=Ind|Tense=Pres|VerbForm=Fin\t13\taux\t13:aux\t_\n",
    "12\tbeen\tbe\tAUX\tVBN\tTense=Past|VerbForm=Part\t13\taux:pass\t13:aux:pass\t_\n",
    "13\tdestroyed\tdestroy\tVERB\tVBN\tTense=Past|VerbForm=Part\t0\troot\t0:root\tSpaceAfter=No\n",
    "14\t,\t,\tPUNCT\t,\t_\t13\tpunct\t13:punct\t_\n",
    "15\twith\twith\tSCONJ\tIN\t_\t17\tmark\t17:mark\t_\n",
    "16\tsome\tsome\tDET\tDT\t_\t17\tnsubj\t17:nsubj|22:nsubj\t_\n",
    "17\tused\tuse\tVERB\tVBN\tTense=Past|VerbForm=Part\t13\tadvcl\t13:advcl:with\t_\n",
    "18\tas\tas\tADP\tIN\t_\t20\tcase\t20:case\t_\n",
    "19\tbuilding\tbuilding\tNOUN\tNN\tNumber=Sing\t20\tcompound\t20:compound\t_\n",
    "20\tmaterial\tmaterial\tNOUN\tNN\tNumber=Sing\t17\tobl\t17:obl:as\t_\n",
    "21\tand\tand\tCCONJ\tCC\t_\t22\tcc\t22:cc|22.1:cc\t_\n",
    "22\tothers\tother\tNOUN\tNNS\tNumber=Plur\t17\tconj\t13:advcl:with|17:conj:and|22.1:nsubj\t_\n",
    "22.1\tused\tuse\tVERB\tVBN\tTense=Past|VerbForm=Part\t_\t_\t13:advcl:with|17:conj:and\tCopyOf=17\n",
    "23\tas\tas\tADP\tIN\t_\t24\tcase\t24:case\t_\n",
    "24\turinals\turinal\tNOUN\tNNS\tNumber=Plur\t22\torphan\t22.1:obl:as\tSpaceAfter=No\n",
    "25\t.\t.\tPUNCT\t.\t_\t13\tpunct\t13:punct\t_\n",
    "\"\"\""
   ]
  },
  {
   "cell_type": "code",
   "execution_count": 15,
   "metadata": {},
   "outputs": [
    {
     "data": {
      "text/plain": [
       "dict_keys([1, 2, 3, 4, 5, 6, 7, 8, 9, 10, 11, 12, 13, 14, 15, 16, 17, 18, 19, 20, 21, 22, 22.1, 23, 24, 25])"
      ]
     },
     "execution_count": 15,
     "metadata": {},
     "output_type": "execute_result"
    }
   ],
   "source": [
    "treeE=conll.conll2tree(testE)\n",
    "treeE.keys()"
   ]
  },
  {
   "cell_type": "code",
   "execution_count": 17,
   "metadata": {},
   "outputs": [
    {
     "data": {
      "text/plain": [
       "{'CopyOf': '17',\n",
       " 'Tense': 'Past',\n",
       " 'VerbForm': 'Part',\n",
       " 'id': 22.1,\n",
       " 't': 'used',\n",
       " 'lemma': 'use',\n",
       " 'tag': 'VERB',\n",
       " 'xpos': 'VBN',\n",
       " 'gov': {-1: '_'},\n",
       " 'egov': {'13': 'with', '17': 'and'}}"
      ]
     },
     "execution_count": 17,
     "metadata": {},
     "output_type": "execute_result"
    }
   ],
   "source": [
    "treeE[22.1]"
   ]
  },
  {
   "cell_type": "code",
   "execution_count": 16,
   "metadata": {},
   "outputs": [
    {
     "name": "stdout",
     "output_type": "stream",
     "text": [
      "head id of current tree: {0, 3, 4, 7, 10, 13, 17, 20, 22, 24}\n",
      "headset ==  {0, 4, 7, 13, 17, 22}\n",
      "1\n",
      "headset ==  {0, 17, 4, 13}\n",
      "2\n",
      "headset ==  {0, 13}\n",
      "3\n",
      "headset ==  {0}\n",
      "4\n",
      "tree height =  5\n"
     ]
    }
   ],
   "source": [
    "hht = treeHeight(treeE)\n",
    "print(\"tree height = \", hht)"
   ]
  },
  {
   "cell_type": "markdown",
   "metadata": {},
   "source": [
    "#### multiword token"
   ]
  },
  {
   "cell_type": "code",
   "execution_count": 18,
   "metadata": {},
   "outputs": [],
   "source": [
    "testMulti = \"\"\"# sent_id = weblog-blogspot.com_dakbangla_20041028153019_ENG_20041028_153019-0008\n",
    "# text = As Pakistan's president had been telling the United States he was \"forced\" into taking a hawkish line on India precisely by the likes of Rahman, this was an embarrassment.\n",
    "1\tAs\tas\tSCONJ\tIN\t_\t7\tmark\t7:mark\t_\n",
    "2-3\tPakistan's\t_\t_\t_\t_\t_\t_\t_\t_\n",
    "2\tPakistan\tPakistan\tPROPN\tNNP\tNumber=Sing\t4\tnmod:poss\t4:nmod:poss\t_\n",
    "3\t's\t's\tPART\tPOS\t_\t2\tcase\t2:case\t_\n",
    "4\tpresident\tpresident\tNOUN\tNN\tNumber=Sing\t7\tnsubj\t7:nsubj\t_\n",
    "5\thad\thave\tAUX\tVBD\tMood=Ind|Tense=Past|VerbForm=Fin\t7\taux\t7:aux\t_\n",
    "6\tbeen\tbe\tAUX\tVBN\tTense=Past|VerbForm=Part\t7\taux\t7:aux\t_\n",
    "7\ttelling\ttell\tVERB\tVBG\tTense=Pres|VerbForm=Part\t33\tadvcl\t33:advcl:as\t_\n",
    "8\tthe\tthe\tDET\tDT\tDefinite=Def|PronType=Art\t10\tdet\t10:det\t_\n",
    "9\tUnited\tUnited\tADJ\tNNP\tDegree=Pos\t10\tamod\t10:amod\t_\n",
    "10\tStates\tState\tPROPN\tNNPS\tNumber=Plur\t7\tobj\t7:obj\t_\n",
    "11\the\the\tPRON\tPRP\tCase=Nom|Gender=Masc|Number=Sing|Person=3|PronType=Prs\t14\tnsubj:pass\t14:nsubj:pass\t_\n",
    "12\twas\tbe\tAUX\tVBD\tMood=Ind|Number=Sing|Person=3|Tense=Past|VerbForm=Fin\t14\taux:pass\t14:aux:pass\t_\n",
    "13\t\"\t\"\tPUNCT\t``\t_\t14\tpunct\t14:punct\tSpaceAfter=No\n",
    "14\tforced\tforce\tVERB\tVBN\tTense=Past|VerbForm=Part|Voice=Pass\t7\tccomp\t7:ccomp\tSpaceAfter=No\n",
    "15\t\"\t\"\tPUNCT\t''\t_\t14\tpunct\t14:punct\t_\n",
    "16\tinto\tinto\tSCONJ\tIN\t_\t17\tmark\t17:mark\t_\n",
    "17\ttaking\ttake\tVERB\tVBG\tVerbForm=Ger\t14\tadvcl\t14:advcl:into\t_\n",
    "18\ta\ta\tDET\tDT\tDefinite=Ind|PronType=Art\t20\tdet\t20:det\t_\n",
    "19\thawkish\thawkish\tADJ\tJJ\tDegree=Pos\t20\tamod\t20:amod\t_\n",
    "20\tline\tline\tNOUN\tNN\tNumber=Sing\t17\tobj\t17:obj\t_\n",
    "21\ton\ton\tADP\tIN\t_\t22\tcase\t22:case\t_\n",
    "22\tIndia\tIndia\tPROPN\tNNP\tNumber=Sing\t17\tobl\t17:obl:on\t_\n",
    "23\tprecisely\tprecisely\tADV\tRB\t_\t26\tadvmod\t26:advmod\t_\n",
    "24\tby\tby\tADP\tIN\t_\t26\tcase\t26:case\t_\n",
    "25\tthe\tthe\tDET\tDT\tDefinite=Def|PronType=Art\t26\tdet\t26:det\t_\n",
    "26\tlikes\tlikes\tNOUN\tNN\tNumber=Sing\t14\tobl\t14:obl:by\t_\n",
    "27\tof\tof\tADP\tIN\t_\t28\tcase\t28:case\t_\n",
    "28\tRahman\tRahman\tPROPN\tNNP\tNumber=Sing\t26\tnmod\t26:nmod:of\tSpaceAfter=No\n",
    "29\t,\t,\tPUNCT\t,\t_\t33\tpunct\t33:punct\t_\n",
    "30\tthis\tthis\tPRON\tDT\tNumber=Sing|PronType=Dem\t33\tnsubj\t33:nsubj\t_\n",
    "31\twas\tbe\tAUX\tVBD\tMood=Ind|Number=Sing|Person=3|Tense=Past|VerbForm=Fin\t33\tcop\t33:cop\t_\n",
    "32\tan\ta\tDET\tDT\tDefinite=Ind|PronType=Art\t33\tdet\t33:det\t_\n",
    "33\tembarrassment\tembarrassment\tNOUN\tNN\tNumber=Sing\t0\troot\t0:root\tSpaceAfter=No\n",
    "34\t.\t.\tPUNCT\t.\t_\t33\tpunct\t33:punct\t_\n",
    "\"\"\""
   ]
  },
  {
   "cell_type": "code",
   "execution_count": 19,
   "metadata": {},
   "outputs": [
    {
     "data": {
      "text/plain": [
       "dict_keys([1, 2, 3, 4, 5, 6, 7, 8, 9, 10, 11, 12, 13, 14, 15, 16, 17, 18, 19, 20, 21, 22, 23, 24, 25, 26, 27, 28, 29, 30, 31, 32, 33, 34])"
      ]
     },
     "execution_count": 19,
     "metadata": {},
     "output_type": "execute_result"
    }
   ],
   "source": [
    "treeM=conll.conll2tree(testMulti)\n",
    "treeM.keys()"
   ]
  },
  {
   "cell_type": "code",
   "execution_count": 20,
   "metadata": {},
   "outputs": [
    {
     "name": "stdout",
     "output_type": "stream",
     "text": [
      "head id of current tree: {0, 33, 2, 4, 7, 10, 14, 17, 20, 22, 26, 28}\n",
      "headset ==  {0, 33, 4, 7, 14, 17, 26}\n",
      "1\n",
      "headset ==  {0, 33, 14, 7}\n",
      "2\n",
      "headset ==  {0, 33, 7}\n",
      "3\n",
      "tree height =  6\n"
     ]
    }
   ],
   "source": [
    "print(\"tree height = \", treeHeight(treeM))"
   ]
  },
  {
   "cell_type": "code",
   "execution_count": null,
   "metadata": {},
   "outputs": [],
   "source": []
  }
 ],
 "metadata": {
  "kernelspec": {
   "display_name": "Python 3",
   "language": "python",
   "name": "python3"
  },
  "language_info": {
   "codemirror_mode": {
    "name": "ipython",
    "version": 3
   },
   "file_extension": ".py",
   "mimetype": "text/x-python",
   "name": "python",
   "nbconvert_exporter": "python",
   "pygments_lexer": "ipython3",
   "version": "3.8.10"
  }
 },
 "nbformat": 4,
 "nbformat_minor": 4
}
